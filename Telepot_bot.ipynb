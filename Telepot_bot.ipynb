{
  "nbformat": 4,
  "nbformat_minor": 0,
  "metadata": {
    "colab": {
      "provenance": [],
      "authorship_tag": "ABX9TyOyR1xPOeh+wJYJQxb85pc4",
      "include_colab_link": true
    },
    "kernelspec": {
      "name": "python3",
      "display_name": "Python 3"
    },
    "language_info": {
      "name": "python"
    }
  },
  "cells": [
    {
      "cell_type": "markdown",
      "metadata": {
        "id": "view-in-github",
        "colab_type": "text"
      },
      "source": [
        "<a href=\"https://colab.research.google.com/github/gabo482/build_telegram_bot/blob/main/Telepot_bot.ipynb\" target=\"_parent\"><img src=\"https://colab.research.google.com/assets/colab-badge.svg\" alt=\"Open In Colab\"/></a>"
      ]
    },
    {
      "cell_type": "markdown",
      "source": [
        "**Instalación de libreria Telepot**\n",
        "\n",
        "Enlace de documentación:\n",
        "\n",
        "\n",
        "[https://telepot.readthedocs.io/en/latest/](https://telepot.readthedocs.io/en/latest/)\n",
        "\n"
      ],
      "metadata": {
        "id": "IZqXfQ905_uw"
      }
    },
    {
      "cell_type": "code",
      "source": [
        "pip install telepot"
      ],
      "metadata": {
        "id": "ULxkAK0Fyp6r"
      },
      "execution_count": null,
      "outputs": []
    },
    {
      "cell_type": "markdown",
      "source": [
        "**Consultar datos de bot**\n"
      ],
      "metadata": {
        "id": "PYsYLHRz7OAc"
      }
    },
    {
      "cell_type": "code",
      "execution_count": null,
      "metadata": {
        "id": "XOHtb1SMykaY"
      },
      "outputs": [],
      "source": [
        "import telepot\n",
        "#import os\n",
        "import pprint\n",
        "\n",
        "bot = telepot.Bot('**API_TOKEN**')\n",
        "pprint.pprint(bot.getMe())"
      ]
    }
  ]
}