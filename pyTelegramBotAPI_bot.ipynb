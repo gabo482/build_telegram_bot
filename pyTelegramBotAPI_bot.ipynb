{
  "nbformat": 4,
  "nbformat_minor": 0,
  "metadata": {
    "colab": {
      "provenance": [],
      "authorship_tag": "ABX9TyOej4mPDlTkF5N3BC+PPPCj",
      "include_colab_link": true
    },
    "kernelspec": {
      "name": "python3",
      "display_name": "Python 3"
    },
    "language_info": {
      "name": "python"
    }
  },
  "cells": [
    {
      "cell_type": "markdown",
      "metadata": {
        "id": "view-in-github",
        "colab_type": "text"
      },
      "source": [
        "<a href=\"https://colab.research.google.com/github/gabo482/build_telegram_bot/blob/main/pyTelegramBotAPI_bot.ipynb\" target=\"_parent\"><img src=\"https://colab.research.google.com/assets/colab-badge.svg\" alt=\"Open In Colab\"/></a>"
      ]
    },
    {
      "cell_type": "markdown",
      "source": [
        "**Instalación de libreria pyTelegramBotAPI**\n",
        "\n",
        "Enlace de documentación:\n",
        "\n",
        "\n",
        "[https://pypi.org/project/pyTelegramBotAPI/](https://pypi.org/project/pyTelegramBotAPI/)\n",
        "\n",
        "\n"
      ],
      "metadata": {
        "id": "KLqY_jdM5Sxt"
      }
    },
    {
      "cell_type": "code",
      "source": [
        "#vinculo de documentación\n",
        "pip install pyTelegramBotAPI"
      ],
      "metadata": {
        "id": "g1iu1DpaoD-8"
      },
      "execution_count": null,
      "outputs": []
    },
    {
      "cell_type": "markdown",
      "source": [
        "**Ejemplo de bot**\n"
      ],
      "metadata": {
        "id": "Hk-thF3G5vlk"
      }
    },
    {
      "cell_type": "code",
      "execution_count": null,
      "metadata": {
        "id": "6paTf-HSoCSj"
      },
      "outputs": [],
      "source": [
        "import telebot\n",
        "\n",
        "API_TOKEN = '**API_TOKEN**'\n",
        "\n",
        "bot = telebot.TeleBot(API_TOKEN)\n",
        "\n",
        "@bot.message_handler(commands=['start', 'hello'])\n",
        "def send_welcome(message):\n",
        "    bot.reply_to(message, \"Howdy, how are you doing?\")\n",
        "\n",
        "@bot.message_handler(func=lambda msg: True)\n",
        "def echo_all(message):\n",
        "    bot.reply_to(message, message.text)\n",
        "\n",
        "bot.infinity_polling()"
      ]
    }
  ]
}